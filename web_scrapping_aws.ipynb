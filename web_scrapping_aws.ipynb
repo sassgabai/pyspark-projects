{
  "nbformat": 4,
  "nbformat_minor": 0,
  "metadata": {
    "colab": {
      "provenance": [],
      "authorship_tag": "ABX9TyOcvOILwBx4iOvIk/VXoNiM",
      "include_colab_link": true
    },
    "kernelspec": {
      "name": "python3",
      "display_name": "Python 3"
    },
    "language_info": {
      "name": "python"
    }
  },
  "cells": [
    {
      "cell_type": "markdown",
      "metadata": {
        "id": "view-in-github",
        "colab_type": "text"
      },
      "source": [
        "<a href=\"https://colab.research.google.com/github/sassgabai/pyspark-projects/blob/main/web_scrapping_aws.ipynb\" target=\"_parent\"><img src=\"https://colab.research.google.com/assets/colab-badge.svg\" alt=\"Open In Colab\"/></a>"
      ]
    },
    {
      "cell_type": "code",
      "execution_count": 1,
      "metadata": {
        "colab": {
          "base_uri": "https://localhost:8080/"
        },
        "id": "Aas_XnWDNWL3",
        "outputId": "a2dbcd04-2006-47a4-c5bb-1036227486eb"
      },
      "outputs": [
        {
          "output_type": "stream",
          "name": "stdout",
          "text": [
            "Collecting pyspark\n",
            "  Downloading pyspark-3.5.1.tar.gz (317.0 MB)\n",
            "\u001b[2K     \u001b[90m━━━━━━━━━━━━━━━━━━━━━━━━━━━━━━━━━━━━━━━━\u001b[0m \u001b[32m317.0/317.0 MB\u001b[0m \u001b[31m2.5 MB/s\u001b[0m eta \u001b[36m0:00:00\u001b[0m\n",
            "\u001b[?25h  Preparing metadata (setup.py) ... \u001b[?25l\u001b[?25hdone\n",
            "Requirement already satisfied: py4j==0.10.9.7 in /usr/local/lib/python3.10/dist-packages (from pyspark) (0.10.9.7)\n",
            "Building wheels for collected packages: pyspark\n",
            "  Building wheel for pyspark (setup.py) ... \u001b[?25l\u001b[?25hdone\n",
            "  Created wheel for pyspark: filename=pyspark-3.5.1-py2.py3-none-any.whl size=317488491 sha256=e0267dd00fc32d44171a04b674a641e7d019b46ec1796246fd73d7970d29004d\n",
            "  Stored in directory: /root/.cache/pip/wheels/80/1d/60/2c256ed38dddce2fdd93be545214a63e02fbd8d74fb0b7f3a6\n",
            "Successfully built pyspark\n",
            "Installing collected packages: pyspark\n",
            "Successfully installed pyspark-3.5.1\n",
            "Collecting bs4\n",
            "  Downloading bs4-0.0.2-py2.py3-none-any.whl (1.2 kB)\n",
            "Requirement already satisfied: beautifulsoup4 in /usr/local/lib/python3.10/dist-packages (from bs4) (4.12.3)\n",
            "Requirement already satisfied: soupsieve>1.2 in /usr/local/lib/python3.10/dist-packages (from beautifulsoup4->bs4) (2.5)\n",
            "Installing collected packages: bs4\n",
            "Successfully installed bs4-0.0.2\n"
          ]
        }
      ],
      "source": [
        "!pip install pyspark\n",
        "!pip install bs4"
      ]
    },
    {
      "cell_type": "code",
      "source": [
        "from bs4 import BeautifulSoup\n",
        "import requests\n",
        "from pyspark.sql import SparkSession"
      ],
      "metadata": {
        "id": "5E4mmmLnNdFZ"
      },
      "execution_count": 31,
      "outputs": []
    },
    {
      "cell_type": "code",
      "source": [
        "spark = SparkSession.builder.getOrCreate()"
      ],
      "metadata": {
        "id": "F57jjfy3hRPg"
      },
      "execution_count": 85,
      "outputs": []
    },
    {
      "cell_type": "code",
      "source": [
        "URL = 'https://www.amazon.com/s?k=dragon+ball+z&language=en_US&crid=221T1AZ8FNVV9&sprefix=dragon+ball+%2Caps%2C235&ref=nb_sb_noss_2'"
      ],
      "metadata": {
        "id": "7Q6ys9vDOIv9"
      },
      "execution_count": 32,
      "outputs": []
    },
    {
      "cell_type": "code",
      "source": [
        "HEADERS = ({'User-Agent':'Mozilla/5.0 (Windows NT 10.0; Win64; x64) AppleWebKit/537.36 (KHTML, like Gecko) Chrome/122.0.0.0 Safari/537.36', 'Accept-Language': 'en-US, en;q=0.5'})"
      ],
      "metadata": {
        "id": "-AxtbSOgOI9H"
      },
      "execution_count": 33,
      "outputs": []
    },
    {
      "cell_type": "code",
      "source": [
        "data = requests.get(URL, headers=HEADERS)"
      ],
      "metadata": {
        "id": "8vUYGU3hOJCZ"
      },
      "execution_count": 34,
      "outputs": []
    },
    {
      "cell_type": "code",
      "source": [
        "soup = BeautifulSoup(data.content, 'html.parser')"
      ],
      "metadata": {
        "id": "i9e1bXNaVNfm"
      },
      "execution_count": 35,
      "outputs": []
    },
    {
      "cell_type": "code",
      "source": [
        "get_links = soup.find_all('a', attrs={'class':'a-link-normal s-no-outline'})"
      ],
      "metadata": {
        "id": "v69Zw0rYVNnJ"
      },
      "execution_count": 38,
      "outputs": []
    },
    {
      "cell_type": "code",
      "source": [
        "links_list =[]\n",
        "\n",
        "for link in get_links:\n",
        "  link_url = f'https://amazon.com{link.get(\"href\")}'\n",
        "  links_list.append(link_url)"
      ],
      "metadata": {
        "colab": {
          "base_uri": "https://localhost:8080/"
        },
        "id": "nfCHxwc2VNsa",
        "outputId": "c998f51d-80e7-46bd-ffa4-e6d87f1abf00"
      },
      "execution_count": 51,
      "outputs": [
        {
          "output_type": "stream",
          "name": "stdout",
          "text": [
            "<Response [200]>\n",
            "<Response [200]>\n",
            "<Response [200]>\n",
            "<Response [200]>\n",
            "<Response [200]>\n"
          ]
        }
      ]
    },
    {
      "cell_type": "code",
      "source": [
        "data_schema = ['description','price','title']\n",
        "data_collected = []"
      ],
      "metadata": {
        "id": "2pHR_VoIgVXh"
      },
      "execution_count": 99,
      "outputs": []
    },
    {
      "cell_type": "code",
      "source": [
        "for link in links_list[:5]:\n",
        "  link_data = requests.get(link, headers=HEADERS)\n",
        "  link_soup = BeautifulSoup(link_data.content, 'html.parser')\n",
        "\n",
        "  get_header = link_soup.find('span', attrs={'class':'a-size-large product-title-word-break'}).text.strip()\n",
        "  get_price = link_soup.find('div', attrs={'class':'a-section a-spacing-micro'})\\\n",
        "                       .find('span', attrs={'class':'a-offscreen'}).text.strip().replace('$','')\n",
        "\n",
        "\n",
        "  get_description = link_soup.find('div', attrs={'class':'a-section a-spacing-medium a-spacing-top-small'})\\\n",
        "                             .find('ul', attrs={'class':'a-unordered-list a-vertical a-spacing-mini'})\\\n",
        "\n",
        "  for desc in get_description:\n",
        "    list_desc = [desc.text.strip() for desc in get_description if desc.text.strip()]\n",
        "\n",
        "  data_collected.append({\n",
        "      'title': get_header,\n",
        "      'price': get_price,\n",
        "      'description': list_desc\n",
        "  })\n",
        "\n",
        ""
      ],
      "metadata": {
        "id": "nCRwsAKIVNw_"
      },
      "execution_count": 100,
      "outputs": []
    },
    {
      "cell_type": "code",
      "source": [
        "df = spark.createDataFrame(data_collected, data_schema)\\\n",
        "          .select('title','description','price')"
      ],
      "metadata": {
        "id": "5MJf055pVN1N"
      },
      "execution_count": 101,
      "outputs": []
    },
    {
      "cell_type": "code",
      "source": [
        "df.show(100, truncate=False)"
      ],
      "metadata": {
        "colab": {
          "base_uri": "https://localhost:8080/"
        },
        "id": "Su1bMM3hVN5b",
        "outputId": "baeff37b-3dfb-4ce4-f074-3d6aef331f85"
      },
      "execution_count": 103,
      "outputs": [
        {
          "output_type": "stream",
          "name": "stdout",
          "text": [
            "+-----------------------------------------------------------------------------------------------------------------------------------------------------------------------------------------------+-----------------------------------------------------------------------------------------------------------------------------------------------------------------------------------------------------------------------------------------------------------------------------------------------------------------------------------------------------------------------------------------------------------------------------------------------------------------------------------------------------------------------------------------------------------------------------------------------------------------------------------------------------------------------------------------------------------------------------------------------------------------------------------------------------+-----+\n",
            "|title                                                                                                                                                                                          |description                                                                                                                                                                                                                                                                                                                                                                                                                                                                                                                                                                                                                                                                                                                                                                                          |price|\n",
            "+-----------------------------------------------------------------------------------------------------------------------------------------------------------------------------------------------+-----------------------------------------------------------------------------------------------------------------------------------------------------------------------------------------------------------------------------------------------------------------------------------------------------------------------------------------------------------------------------------------------------------------------------------------------------------------------------------------------------------------------------------------------------------------------------------------------------------------------------------------------------------------------------------------------------------------------------------------------------------------------------------------------------+-----+\n",
            "|The Novel Children's Toy Dragon Transparent Play Balls Set Contains Dragon Statue + Ball 4.3cm + Acrylic Base + LED Disc+Gift box Star can be Used as Home Decoration, Birthday Gifts and Toys.|[Product specifications: The size of the dragon transparent play balls is 1.7 inches /4.3cm ,Packaging Includes dragon statue + acrylic base + LED disc+gift box., Perfect gifts: Collectible gift, perfect gifts for your children., For role-playing: It is also suitable for any cosplay occasion., Used for decoration: It can also be used to decorate wedding cakes, making your wedding cake the most beautiful top decoration., Multi-purpose: Can be used as key ring, gift, game toys,birthday gifts,holiday supplies.]                                                                                                                                                                                                                                                                    |69.99|\n",
            "|Funko Pop! Animation: Dragonball Z - Super Saiyan Goku (First Appearance), Multicolor (48600)                                                                                                  |[Vinyl, From Dragonball Z, Super Saiyan Goku (First Appearance), as a stylized Pop!, Stylized collectable stands 3 ¾ inches tall, perfect for any Dragonball Z fan!, Collect and display all Dragonball Z POP! Vinyls!, Package Dimensions: 3.5 L x 6.25 H x 4.5 W (inches)]                                                                                                                                                                                                                                                                                                                                                                                                                                                                                                                         |12.99|\n",
            "|Mysika Resin Shenron Figure Shenlong Statue Set + 3.5cm Crystal Balls + Shelf with Gift Box for Business Halloween Christmas Holiday and Birthday Home Decoration                              |[Material: PVC Shenron, Resin Balls, Acrylic Stands, Package: 1piece shenlong (15cm) + 7 pieces balls (3.5cm) + 1 Piece stand + gift box, Seven Balls are internally embossed with stars, and 1-7 stars are placed in seven balls respectively, which is a classic childhood memory., Occasion: It can be used as a birthday gift for friends, lovers, or children and so on. It is suitable for any occasion. can also be used to decorate a wedding or birthday cake, or to decorate a fish tank. The shenron is placed in the middle, surrounded by seven balls, which is very attractive., Please Note: The Stand is transparent. There is a protective film on the stand you received. Before assembly, you need to remove the protective film, which may take 2-3 minutes., Made by Mykasi1688]|37.06|\n",
            "|Boston America Dragonball Z Senzu Beans Candy One 1 Collectible Korin Drawstring Bag Sour Green Apple Flavored Candy Green, Brown 2 Ounce (Pack of 1)                                          |[Each Collectible Drawstring Bag Hold 2.0 oz of Candy, Delicious Sour Green Apple Flavor, Each Candy is in the shape of a green Senzu Bean, Bag Measures 2.0 x 3.0 x 1.0 inches when filled with candy, GREAT Birthday Party Grab Bag Stuffer, Give away Prizes or a SWEET Gift for the Goku Fan in your life]                                                                                                                                                                                                                                                                                                                                                                                                                                                                                       |4.80 |\n",
            "|Dragon Ball Z 4-Star Ball Ceramic Noodle Bowl & Chopsticks Set | Official Goku Themed Dragon Ball Z Collectible Bowl | 16 Ounce Dish                                                           |[Noodle Bowl]                                                                                                                                                                                                                                                                                                                                                                                                                                                                                                                                                                                                                                                                                                                                                                                        |29.99|\n",
            "+-----------------------------------------------------------------------------------------------------------------------------------------------------------------------------------------------+-----------------------------------------------------------------------------------------------------------------------------------------------------------------------------------------------------------------------------------------------------------------------------------------------------------------------------------------------------------------------------------------------------------------------------------------------------------------------------------------------------------------------------------------------------------------------------------------------------------------------------------------------------------------------------------------------------------------------------------------------------------------------------------------------------+-----+\n",
            "\n"
          ]
        }
      ]
    },
    {
      "cell_type": "code",
      "source": [],
      "metadata": {
        "id": "J81914byVOGn"
      },
      "execution_count": null,
      "outputs": []
    },
    {
      "cell_type": "code",
      "source": [],
      "metadata": {
        "id": "_JSibt7eVOK1"
      },
      "execution_count": null,
      "outputs": []
    },
    {
      "cell_type": "code",
      "source": [],
      "metadata": {
        "id": "mC7w7jSQVOPQ"
      },
      "execution_count": null,
      "outputs": []
    },
    {
      "cell_type": "code",
      "source": [],
      "metadata": {
        "id": "n_-EguF-VOTR"
      },
      "execution_count": null,
      "outputs": []
    },
    {
      "cell_type": "code",
      "source": [],
      "metadata": {
        "id": "CG42hKsyVOWy"
      },
      "execution_count": null,
      "outputs": []
    },
    {
      "cell_type": "code",
      "source": [
        "soup = BeautifulSoup(data.content, 'html.parser')"
      ],
      "metadata": {
        "id": "q9kOegdzOJHq"
      },
      "execution_count": 15,
      "outputs": []
    },
    {
      "cell_type": "code",
      "source": [
        "links = soup.find_all('a', attrs={'class':'a-link-normal s-no-outline'})"
      ],
      "metadata": {
        "id": "mDEL3N1KOJMw"
      },
      "execution_count": 17,
      "outputs": []
    },
    {
      "cell_type": "code",
      "source": [
        "web_href = links[0].get('href')"
      ],
      "metadata": {
        "id": "iQTEAYK_OJRs"
      },
      "execution_count": 23,
      "outputs": []
    },
    {
      "cell_type": "code",
      "source": [
        "product_link = f'https://amazon.com{web_href}'"
      ],
      "metadata": {
        "id": "OkuU9VQwOJWm"
      },
      "execution_count": 26,
      "outputs": []
    },
    {
      "cell_type": "code",
      "source": [
        "product_link"
      ],
      "metadata": {
        "colab": {
          "base_uri": "https://localhost:8080/",
          "height": 88
        },
        "id": "K45d0kzjRHl-",
        "outputId": "da8cc8e9-180f-4a9b-a82a-339bcfc6c00c"
      },
      "execution_count": 27,
      "outputs": [
        {
          "output_type": "execute_result",
          "data": {
            "text/plain": [
              "'https://amazon.com/sspa/click?ie=UTF8&spc=MTo2MjM2OTcwMjc2NDg5MDcyOjE3MTAzNTczMzM6c3BfYXRmOjIwMDA1ODU4NjkwNjk3MTo6MDo6&url=%2FDragon-Action-Figure-Supplies-Collectible%2Fdp%2FB08RXXT4Y9%2Fref%3Dsr_1_1_sspa%3Fcrid%3D221T1AZ8FNVV9%26dib%3DeyJ2IjoiMSJ9.04ZTNmlepbeMTvAUp8d5obTSeGzTQkk_BkWOZ4UCerP0lf3SLtAq5SGFavMAAKlZ9mN8boEieBaepp9gXRH9NBH0Dc0ZaqhjzwdaBPku3OFzeLKbtMVDiaYevayMyl8EAmF_ST_lwPlqmlseDS5tfaDaiXIDc1tv5SpZ4jaI8DYWvKvgX37JoY83RJ8hArFD6WNwsagVRPcMwb8vyaeb3giv40uaaIFWEwDuu-if7EsqftGTf8XRwX8bDQlhha85MpQjUCgCMh6jOux0nMeUc0gcrkUMeUyxbcllEDF48fA.fML1qZtOYBmHlKPj2kIMe8yNUN6oa7fls-YchCFraGY%26dib_tag%3Dse%26keywords%3Ddragon%2Bball%2Bz%26qid%3D1710357333%26sprefix%3Ddragon%2Bball%2B%252Caps%252C235%26sr%3D8-1-spons%26sp_csd%3Dd2lkZ2V0TmFtZT1zcF9hdGY%26psc%3D1'"
            ],
            "application/vnd.google.colaboratory.intrinsic+json": {
              "type": "string"
            }
          },
          "metadata": {},
          "execution_count": 27
        }
      ]
    },
    {
      "cell_type": "code",
      "source": [
        "product_webpage = requests.get(product_link, headers=HEADERS)"
      ],
      "metadata": {
        "id": "Qboepsb0RHuO"
      },
      "execution_count": 28,
      "outputs": []
    },
    {
      "cell_type": "code",
      "source": [
        "product_webpage"
      ],
      "metadata": {
        "colab": {
          "base_uri": "https://localhost:8080/"
        },
        "id": "EESdZegERH1Q",
        "outputId": "4b19922c-c977-4d9a-a29b-49134d120532"
      },
      "execution_count": 29,
      "outputs": [
        {
          "output_type": "execute_result",
          "data": {
            "text/plain": [
              "<Response [200]>"
            ]
          },
          "metadata": {},
          "execution_count": 29
        }
      ]
    },
    {
      "cell_type": "code",
      "source": [],
      "metadata": {
        "id": "9DxsQbIARH8d"
      },
      "execution_count": null,
      "outputs": []
    },
    {
      "cell_type": "code",
      "source": [],
      "metadata": {
        "id": "Vhow_cibRIDU"
      },
      "execution_count": null,
      "outputs": []
    }
  ]
}