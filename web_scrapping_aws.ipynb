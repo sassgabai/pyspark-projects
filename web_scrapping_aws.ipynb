{
  "nbformat": 4,
  "nbformat_minor": 0,
  "metadata": {
    "colab": {
      "provenance": [],
      "authorship_tag": "ABX9TyOJx8Ne7zPT+A3fskYpeMms",
      "include_colab_link": true
    },
    "kernelspec": {
      "name": "python3",
      "display_name": "Python 3"
    },
    "language_info": {
      "name": "python"
    }
  },
  "cells": [
    {
      "cell_type": "markdown",
      "metadata": {
        "id": "view-in-github",
        "colab_type": "text"
      },
      "source": [
        "<a href=\"https://colab.research.google.com/github/sassgabai/pyspark-projects/blob/main/web_scrapping_aws.ipynb\" target=\"_parent\"><img src=\"https://colab.research.google.com/assets/colab-badge.svg\" alt=\"Open In Colab\"/></a>"
      ]
    },
    {
      "cell_type": "code",
      "execution_count": null,
      "metadata": {
        "id": "Aas_XnWDNWL3"
      },
      "outputs": [],
      "source": [
        "!pip install pyspark\n",
        "!pip install bs4"
      ]
    },
    {
      "cell_type": "code",
      "source": [
        "from bs4 import BeautifulSoup\n",
        "import requests\n",
        "from pyspark.sql import SparkSession"
      ],
      "metadata": {
        "id": "5E4mmmLnNdFZ"
      },
      "execution_count": 31,
      "outputs": []
    },
    {
      "cell_type": "code",
      "source": [
        "spark = SparkSession.builder.getOrCreate()"
      ],
      "metadata": {
        "id": "F57jjfy3hRPg"
      },
      "execution_count": 85,
      "outputs": []
    },
    {
      "cell_type": "code",
      "source": [
        "URL = 'https://www.amazon.com/s?k=dragon+ball+z&language=en_US&crid=221T1AZ8FNVV9&sprefix=dragon+ball+%2Caps%2C235&ref=nb_sb_noss_2'"
      ],
      "metadata": {
        "id": "7Q6ys9vDOIv9"
      },
      "execution_count": 32,
      "outputs": []
    },
    {
      "cell_type": "code",
      "source": [
        "HEADERS = ({'User-Agent':'Mozilla/5.0 (Windows NT 10.0; Win64; x64) AppleWebKit/537.36 (KHTML, like Gecko) Chrome/122.0.0.0 Safari/537.36', 'Accept-Language': 'en-US, en;q=0.5'})"
      ],
      "metadata": {
        "id": "-AxtbSOgOI9H"
      },
      "execution_count": 33,
      "outputs": []
    },
    {
      "cell_type": "code",
      "source": [
        "data = requests.get(URL, headers=HEADERS)"
      ],
      "metadata": {
        "id": "8vUYGU3hOJCZ"
      },
      "execution_count": 34,
      "outputs": []
    },
    {
      "cell_type": "code",
      "source": [
        "soup = BeautifulSoup(data.content, 'html.parser')"
      ],
      "metadata": {
        "id": "i9e1bXNaVNfm"
      },
      "execution_count": 35,
      "outputs": []
    },
    {
      "cell_type": "code",
      "source": [
        "get_links = soup.find_all('a', attrs={'class':'a-link-normal s-no-outline'})"
      ],
      "metadata": {
        "id": "v69Zw0rYVNnJ"
      },
      "execution_count": 38,
      "outputs": []
    },
    {
      "cell_type": "code",
      "source": [
        "links_list =[]\n",
        "\n",
        "for link in get_links:\n",
        "  link_url = f'https://amazon.com{link.get(\"href\")}'\n",
        "  links_list.append(link_url)"
      ],
      "metadata": {
        "id": "nfCHxwc2VNsa"
      },
      "execution_count": null,
      "outputs": []
    },
    {
      "cell_type": "code",
      "source": [
        "data_schema = ['description','price','title']\n",
        "data_collected = []"
      ],
      "metadata": {
        "id": "2pHR_VoIgVXh"
      },
      "execution_count": 99,
      "outputs": []
    },
    {
      "cell_type": "code",
      "source": [
        "for link in links_list[:5]:\n",
        "  link_data = requests.get(link, headers=HEADERS)\n",
        "  link_soup = BeautifulSoup(link_data.content, 'html.parser')\n",
        "\n",
        "  get_header = link_soup.find('span', attrs={'class':'a-size-large product-title-word-break'}).text.strip()\n",
        "  get_price = link_soup.find('div', attrs={'class':'a-section a-spacing-micro'})\\\n",
        "                       .find('span', attrs={'class':'a-offscreen'}).text.strip().replace('$','')\n",
        "\n",
        "\n",
        "  get_description = link_soup.find('div', attrs={'class':'a-section a-spacing-medium a-spacing-top-small'})\\\n",
        "                             .find('ul', attrs={'class':'a-unordered-list a-vertical a-spacing-mini'})\\\n",
        "\n",
        "  for desc in get_description:\n",
        "    list_desc = [desc.text.strip() for desc in get_description if desc.text.strip()]\n",
        "\n",
        "  data_collected.append({\n",
        "      'title': get_header,\n",
        "      'price': get_price,\n",
        "      'description': list_desc\n",
        "  })\n",
        "\n",
        ""
      ],
      "metadata": {
        "id": "nCRwsAKIVNw_"
      },
      "execution_count": 100,
      "outputs": []
    },
    {
      "cell_type": "code",
      "source": [
        "df = spark.createDataFrame(data_collected, data_schema)\\\n",
        "          .select('title','description','price')"
      ],
      "metadata": {
        "id": "5MJf055pVN1N"
      },
      "execution_count": 101,
      "outputs": []
    },
    {
      "cell_type": "code",
      "source": [
        "df.show(100, truncate=False)"
      ],
      "metadata": {
        "id": "Su1bMM3hVN5b"
      },
      "execution_count": null,
      "outputs": []
    }
  ]
}