{
  "nbformat": 4,
  "nbformat_minor": 0,
  "metadata": {
    "colab": {
      "provenance": [],
      "authorship_tag": "ABX9TyNIyJnkrsIvDPaMYQodkEiy",
      "include_colab_link": true
    },
    "kernelspec": {
      "name": "python3",
      "display_name": "Python 3"
    },
    "language_info": {
      "name": "python"
    }
  },
  "cells": [
    {
      "cell_type": "markdown",
      "metadata": {
        "id": "view-in-github",
        "colab_type": "text"
      },
      "source": [
        "<a href=\"https://colab.research.google.com/github/sassgabai/pyspark-projects/blob/main/SCD_type_2.ipynb\" target=\"_parent\"><img src=\"https://colab.research.google.com/assets/colab-badge.svg\" alt=\"Open In Colab\"/></a>"
      ]
    },
    {
      "cell_type": "code",
      "execution_count": null,
      "metadata": {
        "colab": {
          "base_uri": "https://localhost:8080/"
        },
        "id": "4uzc1GX93PrO",
        "outputId": "57a98b04-4341-4f25-e708-46091b0f8cde"
      },
      "outputs": [
        {
          "output_type": "stream",
          "name": "stdout",
          "text": [
            "Collecting pyspark\n",
            "  Downloading pyspark-3.5.0.tar.gz (316.9 MB)\n",
            "\u001b[2K     \u001b[90m━━━━━━━━━━━━━━━━━━━━━━━━━━━━━━━━━━━━━━━━\u001b[0m \u001b[32m316.9/316.9 MB\u001b[0m \u001b[31m3.1 MB/s\u001b[0m eta \u001b[36m0:00:00\u001b[0m\n",
            "\u001b[?25h  Preparing metadata (setup.py) ... \u001b[?25l\u001b[?25hdone\n",
            "Requirement already satisfied: py4j==0.10.9.7 in /usr/local/lib/python3.10/dist-packages (from pyspark) (0.10.9.7)\n",
            "Building wheels for collected packages: pyspark\n",
            "  Building wheel for pyspark (setup.py) ... \u001b[?25l\u001b[?25hdone\n",
            "  Created wheel for pyspark: filename=pyspark-3.5.0-py2.py3-none-any.whl size=317425345 sha256=99c6957ee82d8932ca7b5495e43a3dd0b36de9f66a2c1d1e441338fbeb03f6d7\n",
            "  Stored in directory: /root/.cache/pip/wheels/41/4e/10/c2cf2467f71c678cfc8a6b9ac9241e5e44a01940da8fbb17fc\n",
            "Successfully built pyspark\n",
            "Installing collected packages: pyspark\n",
            "Successfully installed pyspark-3.5.0\n"
          ]
        }
      ],
      "source": [
        "!pip install pyspark"
      ]
    },
    {
      "cell_type": "code",
      "source": [
        "from pyspark.sql import SparkSession\n",
        "from pyspark.sql import functions as F\n",
        "from pyspark.sql import types as T\n",
        "from pyspark.sql import Window"
      ],
      "metadata": {
        "id": "r2EDEjn_3aEt"
      },
      "execution_count": null,
      "outputs": []
    },
    {
      "cell_type": "code",
      "source": [
        "spark = SparkSession.builder.appName('scd 3').getOrCreate()"
      ],
      "metadata": {
        "id": "9RmvAWK43aPw"
      },
      "execution_count": null,
      "outputs": []
    },
    {
      "cell_type": "code",
      "source": [
        "# constructing the schmea\n",
        "schema = T.StructType([\n",
        "    T.StructField('ad_id',T.IntegerType(),True),\n",
        "    T.StructField('street',T.StringType(),True),\n",
        "    T.StructField('city',T.StringType(),True),\n",
        "    T.StructField('zip',T.IntegerType(),True),\n",
        "    T.StructField('state',T.StringType(),True),\n",
        "    T.StructField('beds',T.IntegerType(),True),\n",
        "    T.StructField('baths',T.IntegerType(),True),\n",
        "    T.StructField('sq_ft',T.IntegerType(),True),\n",
        "    T.StructField('type',T.StringType(),True),\n",
        "    T.StructField('price',T.IntegerType(),True),\n",
        "    T.StructField('snapshot_date',T.DateType(),True)\n",
        "])"
      ],
      "metadata": {
        "id": "HBUssMiR3aVD"
      },
      "execution_count": null,
      "outputs": []
    },
    {
      "cell_type": "code",
      "source": [
        "pdf = spark.read.csv('/content/*.csv', header=True, schema=schema)"
      ],
      "metadata": {
        "id": "cseqCTfB3aaf"
      },
      "execution_count": null,
      "outputs": []
    },
    {
      "cell_type": "code",
      "source": [
        "window_spec = Window.partitionBy('ad_id').orderBy('snapshot_date')"
      ],
      "metadata": {
        "id": "WM_XmTwG3afw"
      },
      "execution_count": null,
      "outputs": []
    },
    {
      "cell_type": "code",
      "source": [
        "# insert all rows into arr, insert leading row into arr_lead\n",
        "\n",
        "pdf = pdf.withColumn('row_number', F.row_number().over(window_spec))\\\n",
        "         .withColumn('obj', F.array('*'))\\\n",
        "         .withColumn('obj_lead', F.lead('obj').over(window_spec))"
      ],
      "metadata": {
        "id": "kHimpwZp5Gl7"
      },
      "execution_count": null,
      "outputs": []
    },
    {
      "cell_type": "code",
      "source": [
        "# compare arr and lead_arr to see changes\n",
        "\n",
        "pdf = pdf.withColumn('except', F.array_except(F.col('obj'),F.col('obj_lead')))"
      ],
      "metadata": {
        "id": "VEMU_-6f7qSj"
      },
      "execution_count": null,
      "outputs": []
    },
    {
      "cell_type": "code",
      "source": [
        "# if number of changes in a row >=3 , it's an update (besides snapshot_date and row_number)\n",
        "# if the lead_arr is null it means it's a new pk and we keep it aswell\n",
        "# rest insert none for easier drop\n",
        "\n",
        "pdf = pdf.withColumn('status', F.when((F.size(F.col('except')) >= 3) | (F.col('row_number') == 1) , F.lit('UPDATE'))\n",
        ".otherwise(F.when(F.col('obj_lead').isNull() == True, F.lit('NEW_PK')).otherwise(F.lit(None))))"
      ],
      "metadata": {
        "id": "EC9uos-dEVwK"
      },
      "execution_count": null,
      "outputs": []
    },
    {
      "cell_type": "code",
      "source": [
        "# drop\n",
        "\n",
        "pdf = pdf.dropna().drop('obj','obj_lead','except','status','row_number')"
      ],
      "metadata": {
        "id": "DK1P5aFX8R50"
      },
      "execution_count": null,
      "outputs": []
    },
    {
      "cell_type": "code",
      "source": [
        "# create start_date which is pasically snapshot_date and end_date\n",
        "\n",
        "pdf = pdf.withColumn('start_date', F.col('snapshot_date').cast(T.DateType()))\\\n",
        "         .withColumn('end_date', F.lead('snapshot_date').over(window_spec).cast(T.DateType()))"
      ],
      "metadata": {
        "id": "hCQIgKlQ_PDN"
      },
      "execution_count": null,
      "outputs": []
    },
    {
      "cell_type": "code",
      "source": [
        "# fix end_date and add current to represent if row is valid or not\n",
        "\n",
        "pdf = pdf.withColumn('end_date', F.when(F.col('end_date').isNull() == True, F.lit('9999-12-31')).otherwise(F.col('end_date')))\\\n",
        "         .withColumn('current', F.when(F.col('end_date') == '9999-12-31', F.lit(True)).otherwise(F.lit(False)))"
      ],
      "metadata": {
        "id": "VDGnmuZmBC0k"
      },
      "execution_count": null,
      "outputs": []
    },
    {
      "cell_type": "code",
      "source": [
        "pdf.show()"
      ],
      "metadata": {
        "colab": {
          "base_uri": "https://localhost:8080/"
        },
        "id": "b_SImM6JC3Cm",
        "outputId": "b46ce8bb-2e03-4724-d15d-82c15c89f757"
      },
      "execution_count": null,
      "outputs": [
        {
          "output_type": "stream",
          "name": "stdout",
          "text": [
            "+------+--------------------+--------------+-----+-----+----+-----+-----+-----------+------+-------------+----------+----------+-------+\n",
            "| ad_id|              street|          city|  zip|state|beds|baths|sq_ft|       type| price|snapshot_date|start_date|  end_date|current|\n",
            "+------+--------------------+--------------+-----+-----+----+-----+-----+-----------+------+-------------+----------+----------+-------+\n",
            "|100001|        3526 HIGH ST|    SACRAMENTO|95838|   CA|   2|    1|  836|Residential| 59222|   2021-12-01|2021-12-01|2021-12-05|  false|\n",
            "|100001|        3526 HIGH ST|    SACRAMENTO|95838|   CA|   2|    2|  836|Residential| 59222|   2021-12-05|2021-12-05|9999-12-31|   true|\n",
            "|100002|         51 OMAHA CT|    SACRAMENTO|95823|   CA|   3|    1| 1167|Residential| 68212|   2021-12-01|2021-12-01|9999-12-31|   true|\n",
            "|100003|      2796 BRANCH ST|    SACRAMENTO|95815|   CA|   2|    1|  796|Residential| 68880|   2021-12-01|2021-12-01|9999-12-31|   true|\n",
            "|100004|    2805 JANETTE WAY|    SACRAMENTO|95815|   CA|   2|    1|  852|Residential| 69307|   2021-12-01|2021-12-01|9999-12-31|   true|\n",
            "|100005|     6001 MCMAHON DR|    SACRAMENTO|95824|   CA|   2|    1|  797|Residential| 81900|   2021-12-01|2021-12-01|2021-12-03|  false|\n",
            "|100005|     6001 MCMAHON DR|    SACRAMENTO|95824|   CA|   2|    1|  797|Residential| 81900|   2021-12-03|2021-12-03|9999-12-31|   true|\n",
            "|100006|  5828 PEPPERMILL CT|    SACRAMENTO|95841|   CA|   3|    1| 1122|      Condo| 89921|   2021-12-01|2021-12-01|9999-12-31|   true|\n",
            "|100007| 6048 OGDEN NASH WAY|    SACRAMENTO|95842|   CA|   3|    2| 1104|Residential| 90895|   2021-12-01|2021-12-01|9999-12-31|   true|\n",
            "|100008|       2561 19TH AVE|    SACRAMENTO|95820|   CA|   3|    1| 1177|Residential| 91002|   2021-12-01|2021-12-01|2021-12-04|  false|\n",
            "|100008|       2561 19TH AVE|    SACRAMENTO|95820|   CA|   3|    1| 1177|Residential| 91002|   2021-12-04|2021-12-04|2021-12-05|  false|\n",
            "|100008|       2561 19TH AVE|    SACRAMENTO|95820|   CA|   3|    1| 1177|Residential| 92000|   2021-12-05|2021-12-05|9999-12-31|   true|\n",
            "|100009|11150 TRINITY RIV...|RANCHO CORDOVA|95670|   CA|   2|    2|  941|      Condo| 94905|   2021-12-01|2021-12-01|9999-12-31|   true|\n",
            "|100010|        7325 10TH ST|     RIO LINDA|95673|   CA|   3|    2| 1146|Residential| 98937|   2021-12-02|2021-12-02|2021-12-04|  false|\n",
            "|100010|       2500 19TH AVE|    SACRAMENTO|95673|   CA|   3|    2| 1146|Residential| 98937|   2021-12-04|2021-12-04|9999-12-31|   true|\n",
            "|100011|    645 MORRISON AVE|    SACRAMENTO|95838|   CA|   3|    2|  909|Residential|100309|   2021-12-02|2021-12-02|9999-12-31|   true|\n",
            "|100012|       4085 FAWN CIR|    SACRAMENTO|95823|   CA|   3|    2| 1289|Residential|106250|   2021-12-02|2021-12-02|9999-12-31|   true|\n",
            "|100013|     2930 LA ROSA RD|    SACRAMENTO|95815|   CA|   1|    1|  871|Residential|106852|   2021-12-03|2021-12-03|9999-12-31|   true|\n",
            "|100014|      2796 BRANCH ST|    SACRAMENTO|95815|   CA|   2|    1|  796|Residential| 70880|   2021-12-03|2021-12-03|9999-12-31|   true|\n",
            "|100015|        3526 HIGH ST|    SACRAMENTO|95838|   CA|   2|    2|  836|Residential| 59222|   2021-12-03|2021-12-03|2021-12-06|  false|\n",
            "+------+--------------------+--------------+-----+-----+----+-----+-----+-----------+------+-------------+----------+----------+-------+\n",
            "only showing top 20 rows\n",
            "\n"
          ]
        }
      ]
    },
    {
      "cell_type": "code",
      "source": [],
      "metadata": {
        "id": "w0kfXDqcDnKy"
      },
      "execution_count": null,
      "outputs": []
    }
  ]
}