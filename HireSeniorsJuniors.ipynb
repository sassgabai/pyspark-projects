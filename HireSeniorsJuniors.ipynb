{
  "nbformat": 4,
  "nbformat_minor": 0,
  "metadata": {
    "colab": {
      "provenance": []
    },
    "kernelspec": {
      "name": "python3",
      "display_name": "Python 3"
    },
    "language_info": {
      "name": "python"
    }
  },
  "cells": [
    {
      "cell_type": "code",
      "execution_count": null,
      "metadata": {
        "colab": {
          "base_uri": "https://localhost:8080/"
        },
        "id": "0GHmy5hSwKAt",
        "outputId": "5f0ae20a-e1bc-48ac-f378-ad962414e654"
      },
      "outputs": [
        {
          "output_type": "stream",
          "name": "stdout",
          "text": [
            "Collecting pyspark\n",
            "  Downloading pyspark-3.5.0.tar.gz (316.9 MB)\n",
            "\u001b[2K     \u001b[90m━━━━━━━━━━━━━━━━━━━━━━━━━━━━━━━━━━━━━━━━\u001b[0m \u001b[32m316.9/316.9 MB\u001b[0m \u001b[31m3.9 MB/s\u001b[0m eta \u001b[36m0:00:00\u001b[0m\n",
            "\u001b[?25h  Preparing metadata (setup.py) ... \u001b[?25l\u001b[?25hdone\n",
            "Requirement already satisfied: py4j==0.10.9.7 in /usr/local/lib/python3.10/dist-packages (from pyspark) (0.10.9.7)\n",
            "Building wheels for collected packages: pyspark\n",
            "  Building wheel for pyspark (setup.py) ... \u001b[?25l\u001b[?25hdone\n",
            "  Created wheel for pyspark: filename=pyspark-3.5.0-py2.py3-none-any.whl size=317425345 sha256=316f609205fd17c5a09606442884b51b8196a96558f4e68b827543f18ad4acdf\n",
            "  Stored in directory: /root/.cache/pip/wheels/41/4e/10/c2cf2467f71c678cfc8a6b9ac9241e5e44a01940da8fbb17fc\n",
            "Successfully built pyspark\n",
            "Installing collected packages: pyspark\n",
            "Successfully installed pyspark-3.5.0\n"
          ]
        }
      ],
      "source": [
        "!pip install pyspark"
      ]
    },
    {
      "cell_type": "code",
      "source": [
        "from pyspark.sql import SparkSession\n",
        "from pyspark.sql import functions as F\n",
        "from pyspark.sql import types as T\n",
        "from pyspark.sql import Window\n"
      ],
      "metadata": {
        "id": "a_iCpMy9wL78"
      },
      "execution_count": null,
      "outputs": []
    },
    {
      "cell_type": "code",
      "source": [
        "spark = SparkSession.builder.getOrCreate()"
      ],
      "metadata": {
        "id": "pYcHXMouwdQl"
      },
      "execution_count": null,
      "outputs": []
    },
    {
      "cell_type": "code",
      "source": [
        "data = [(1,'Junior',10000),\n",
        "        (2,'Junior',15000),\n",
        "        (3,'Junior',40000),\n",
        "        (4,'Senior',16000),\n",
        "        (5,'Senior',20000),\n",
        "        (6,'Senior',50000)\n",
        "        ]\n"
      ],
      "metadata": {
        "id": "TIk2Q94Vwf4F"
      },
      "execution_count": null,
      "outputs": []
    },
    {
      "cell_type": "code",
      "source": [
        "df = spark.createDataFrame(data, ['emp_id','experience','salary'])"
      ],
      "metadata": {
        "id": "sE1lqE9ow6DS"
      },
      "execution_count": null,
      "outputs": []
    },
    {
      "cell_type": "code",
      "source": [
        "df.printSchema()"
      ],
      "metadata": {
        "colab": {
          "base_uri": "https://localhost:8080/"
        },
        "id": "85O6_i-Vw_TX",
        "outputId": "3d0e87e1-7b67-45b9-8e6e-03cddb3d2e29"
      },
      "execution_count": null,
      "outputs": [
        {
          "output_type": "stream",
          "name": "stdout",
          "text": [
            "root\n",
            " |-- emp_id: long (nullable = true)\n",
            " |-- experience: string (nullable = true)\n",
            " |-- salary: long (nullable = true)\n",
            "\n"
          ]
        }
      ]
    },
    {
      "cell_type": "code",
      "source": [
        "window_senior = Window.partitionBy('experience').orderBy('salary')\n",
        "window_junior = Window.partitionBy('experience').orderBy('salary')"
      ],
      "metadata": {
        "id": "W2MjlawS3hou"
      },
      "execution_count": null,
      "outputs": []
    },
    {
      "cell_type": "code",
      "source": [
        "df = df.withColumn('senior_cumulative', F.sum('salary').over(window_senior).cast(T.IntegerType()))\\\n",
        "       .withColumn('junior_cumulative', F.sum('salary').over(window_junior).cast(T.IntegerType()))"
      ],
      "metadata": {
        "id": "yk0_U5yc3hxg"
      },
      "execution_count": null,
      "outputs": []
    },
    {
      "cell_type": "code",
      "source": [
        "seniors_df = df.filter((F.col('experience') == 'Senior') & (F.col('senior_cumulative') <= 70000)).select('emp_id','salary')"
      ],
      "metadata": {
        "id": "UJ3x-tiT4Cae"
      },
      "execution_count": null,
      "outputs": []
    },
    {
      "cell_type": "code",
      "source": [
        "junior_budget = seniors_df.agg(F.sum('salary')).first()[0]\n"
      ],
      "metadata": {
        "id": "ECTd2oea6zNb"
      },
      "execution_count": null,
      "outputs": []
    },
    {
      "cell_type": "code",
      "source": [
        "juniors_df = df.filter((F.col('experience') == 'Junior') & (F.col('junior_cumulative') <= junior_budget)).select('emp_id','salary')"
      ],
      "metadata": {
        "id": "Eq-m0KF15_LF"
      },
      "execution_count": null,
      "outputs": []
    },
    {
      "cell_type": "code",
      "source": [
        "total_df = seniors_df.union(juniors_df).show()"
      ],
      "metadata": {
        "colab": {
          "base_uri": "https://localhost:8080/"
        },
        "id": "xEXX3oHn8IFW",
        "outputId": "ce31d5fa-c174-4a99-8413-55aa28296750"
      },
      "execution_count": null,
      "outputs": [
        {
          "output_type": "stream",
          "name": "stdout",
          "text": [
            "+------+------+\n",
            "|emp_id|salary|\n",
            "+------+------+\n",
            "|     4| 16000|\n",
            "|     5| 20000|\n",
            "|     1| 10000|\n",
            "|     2| 15000|\n",
            "+------+------+\n",
            "\n"
          ]
        }
      ]
    },
    {
      "cell_type": "code",
      "source": [],
      "metadata": {
        "id": "Yli3VXYn8PsQ"
      },
      "execution_count": null,
      "outputs": []
    }
  ]
}